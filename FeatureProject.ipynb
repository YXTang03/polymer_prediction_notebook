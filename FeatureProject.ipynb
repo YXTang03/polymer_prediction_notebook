{
 "cells": [
  {
   "cell_type": "code",
   "execution_count": null,
   "id": "77c3838a",
   "metadata": {},
   "outputs": [],
   "source": [
    "import pandas as pd\n",
    "import numpy as np\n",
    "from rdkit import Chem\n",
    "import torch\n",
    "from torch_geometric.data import Data"
   ]
  },
  {
   "cell_type": "code",
   "execution_count": null,
   "id": "a8112c81",
   "metadata": {},
   "outputs": [],
   "source": [
    "train_df = pd.read_csv('./train.csv')\n",
    "test_df = pd.read_csv('./test.csv')"
   ]
  },
  {
   "cell_type": "code",
   "execution_count": null,
   "id": "5ac1fed5",
   "metadata": {},
   "outputs": [],
   "source": [
    "def atom_features(atom):\n",
    "    return np.array([\n",
    "        atom.GetAtomicNum(), \n",
    "        atom.GetTotalDegree(), \n",
    "        atom.GetFormalCharge(), \n",
    "        int(atom.GetIsAromatic()), \n",
    "        atom.GetTotalNumHs()\n",
    "    ], dtype=float)\n",
    "X = torch.tensor([atom_features(atom) for atom in mol.GetAtoms()])"
   ]
  },
  {
   "cell_type": "code",
   "execution_count": null,
   "id": "47933747",
   "metadata": {},
   "outputs": [],
   "source": [
    "def atom_features(atom):\n",
    "    "
   ]
  }
 ],
 "metadata": {
  "kernelspec": {
   "display_name": "GraphicNN",
   "language": "python",
   "name": "python3"
  },
  "language_info": {
   "codemirror_mode": {
    "name": "ipython",
    "version": 3
   },
   "file_extension": ".py",
   "mimetype": "text/x-python",
   "name": "python",
   "nbconvert_exporter": "python",
   "pygments_lexer": "ipython3",
   "version": "3.12.3"
  }
 },
 "nbformat": 4,
 "nbformat_minor": 5
}
