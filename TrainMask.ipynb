{
 "cells": [
  {
   "cell_type": "code",
   "execution_count": 5,
   "id": "e70dc7a3",
   "metadata": {},
   "outputs": [],
   "source": [
    "import torch\n",
    "from torch import nn\n",
    "import pandas as pd\n",
    "import os\n",
    "work_dir = r'E:/Coding/jupyter_root/Kaggle/neurips-open-polymer-prediction-2025/polymer_prediction_notebook'\n",
    "df = pd.read_csv(os.path.join(work_dir, './merge_fill_ffv_mean.csv'))"
   ]
  },
  {
   "cell_type": "code",
   "execution_count": 2,
   "id": "b29daba1",
   "metadata": {},
   "outputs": [],
   "source": [
    "df_without_na = df.dropna(axis=0, how='any')"
   ]
  },
  {
   "cell_type": "code",
   "execution_count": null,
   "id": "2f4cb86f",
   "metadata": {},
   "outputs": [
    {
     "data": {
      "text/plain": [
       "tensor([False, False, False,  ..., False, False, False])"
      ]
     },
     "execution_count": 6,
     "metadata": {},
     "output_type": "execute_result"
    }
   ],
   "source": [
    "labeled_index = df_without_na.index\n",
    "train_mask = torch.zeros(len(df), dtype = torch.bool)\n",
    "train_mask[labeled_index] = True"
   ]
  },
  {
   "cell_type": "code",
   "execution_count": null,
   "id": "58b5715a",
   "metadata": {},
   "outputs": [
    {
     "data": {
      "text/plain": [
       "tensor([True, True, True, True, True, True, True, True, True, True, True, True,\n",
       "        True, True, True, True, True, True])"
      ]
     },
     "execution_count": 11,
     "metadata": {},
     "output_type": "execute_result"
    }
   ],
   "source": [
    "\n"
   ]
  },
  {
   "cell_type": "code",
   "execution_count": 11,
   "id": "d85bc045",
   "metadata": {},
   "outputs": [
    {
     "data": {
      "application/vnd.microsoft.datawrangler.viewer.v0+json": {
       "columns": [
        {
         "name": "index",
         "rawType": "int64",
         "type": "integer"
        },
        {
         "name": "Tg",
         "rawType": "float64",
         "type": "float"
        },
        {
         "name": "FFV",
         "rawType": "float64",
         "type": "float"
        },
        {
         "name": "Tc",
         "rawType": "float64",
         "type": "float"
        },
        {
         "name": "Density",
         "rawType": "float64",
         "type": "float"
        },
        {
         "name": "Rg",
         "rawType": "float64",
         "type": "float"
        }
       ],
       "ref": "e4e6a007-f3ec-4d45-bf12-c71e9625f8c1",
       "rows": [
        [
         "0",
         null,
         "0.37464529",
         "0.205666667",
         null,
         null
        ],
        [
         "1",
         null,
         "0.3704102",
         null,
         null,
         null
        ],
        [
         "2",
         null,
         "0.37885964",
         null,
         null,
         null
        ],
        [
         "3",
         null,
         "0.3873239",
         null,
         null,
         null
        ],
        [
         "4",
         null,
         "0.35547017",
         null,
         null,
         null
        ],
        [
         "5",
         null,
         "0.33909279",
         null,
         null,
         null
        ],
        [
         "6",
         null,
         "0.3476159",
         null,
         null,
         null
        ],
        [
         "7",
         null,
         "0.37754464",
         null,
         null,
         null
        ],
        [
         "8",
         null,
         "0.35917558",
         null,
         null,
         null
        ],
        [
         "9",
         null,
         "0.341878125",
         null,
         null,
         null
        ],
        [
         "10",
         null,
         "0.40239665",
         "0.487",
         "0.901122805",
         "28.6824407"
        ],
        [
         "11",
         null,
         "0.367211996",
         "0.171",
         "1.184354013",
         "13.53424751"
        ],
        [
         "12",
         null,
         "0.36481552",
         null,
         null,
         null
        ],
        [
         "13",
         null,
         "0.36956078",
         null,
         null,
         null
        ],
        [
         "14",
         null,
         "0.3314918",
         null,
         null,
         null
        ],
        [
         "15",
         null,
         "0.34991627",
         null,
         null,
         null
        ],
        [
         "16",
         null,
         "0.33687015",
         null,
         null,
         null
        ],
        [
         "17",
         null,
         "0.36326495",
         null,
         null,
         null
        ],
        [
         "18",
         null,
         "0.36594162",
         null,
         null,
         null
        ],
        [
         "19",
         null,
         "0.40101187",
         null,
         null,
         null
        ],
        [
         "20",
         null,
         "0.31898697",
         null,
         null,
         null
        ],
        [
         "21",
         null,
         "0.33573247",
         null,
         null,
         null
        ],
        [
         "22",
         null,
         "0.38715626",
         null,
         null,
         null
        ],
        [
         "23",
         null,
         "0.33579028",
         null,
         null,
         null
        ],
        [
         "24",
         null,
         "0.33930299",
         null,
         null,
         null
        ],
        [
         "25",
         null,
         "0.36614256",
         null,
         null,
         null
        ],
        [
         "26",
         null,
         "0.34722767",
         null,
         null,
         null
        ],
        [
         "27",
         null,
         "0.36941899",
         null,
         null,
         null
        ],
        [
         "28",
         null,
         "0.3407009",
         null,
         null,
         null
        ],
        [
         "29",
         null,
         "0.32926001",
         null,
         null,
         null
        ],
        [
         "30",
         null,
         "0.32877014",
         null,
         null,
         null
        ],
        [
         "31",
         null,
         "0.3327408",
         "0.327",
         null,
         null
        ],
        [
         "32",
         null,
         "0.35017075",
         null,
         null,
         null
        ],
        [
         "33",
         null,
         "0.38518992",
         null,
         null,
         null
        ],
        [
         "34",
         null,
         "0.367211996",
         "0.383",
         null,
         null
        ],
        [
         "35",
         null,
         "0.40787312",
         "0.375",
         null,
         null
        ],
        [
         "36",
         null,
         "0.367211996",
         "0.186333333",
         null,
         null
        ],
        [
         "37",
         null,
         "0.367211996",
         "0.225333333",
         null,
         "13.87291346"
        ],
        [
         "38",
         null,
         "0.38708542",
         null,
         null,
         null
        ],
        [
         "39",
         null,
         "0.3487648",
         null,
         null,
         null
        ],
        [
         "40",
         "208.6397491",
         "0.367211996",
         null,
         null,
         null
        ],
        [
         "41",
         null,
         "0.39996108",
         null,
         null,
         null
        ],
        [
         "42",
         null,
         "0.40256926",
         null,
         null,
         null
        ],
        [
         "43",
         null,
         "0.35338284",
         null,
         null,
         null
        ],
        [
         "44",
         null,
         "0.38083463",
         null,
         null,
         null
        ],
        [
         "45",
         null,
         "0.37078536",
         null,
         null,
         null
        ],
        [
         "46",
         null,
         "0.35783052",
         "0.1735",
         "1.061864136",
         "12.7374634"
        ],
        [
         "47",
         null,
         "0.39901234",
         null,
         null,
         null
        ],
        [
         "48",
         null,
         "0.367211996",
         "0.184",
         null,
         null
        ],
        [
         "49",
         null,
         "0.36594213",
         null,
         null,
         null
        ]
       ],
       "shape": {
        "columns": 5,
        "rows": 7958
       }
      },
      "text/html": [
       "<div>\n",
       "<style scoped>\n",
       "    .dataframe tbody tr th:only-of-type {\n",
       "        vertical-align: middle;\n",
       "    }\n",
       "\n",
       "    .dataframe tbody tr th {\n",
       "        vertical-align: top;\n",
       "    }\n",
       "\n",
       "    .dataframe thead th {\n",
       "        text-align: right;\n",
       "    }\n",
       "</style>\n",
       "<table border=\"1\" class=\"dataframe\">\n",
       "  <thead>\n",
       "    <tr style=\"text-align: right;\">\n",
       "      <th></th>\n",
       "      <th>Tg</th>\n",
       "      <th>FFV</th>\n",
       "      <th>Tc</th>\n",
       "      <th>Density</th>\n",
       "      <th>Rg</th>\n",
       "    </tr>\n",
       "  </thead>\n",
       "  <tbody>\n",
       "    <tr>\n",
       "      <th>0</th>\n",
       "      <td>NaN</td>\n",
       "      <td>0.374645</td>\n",
       "      <td>0.205667</td>\n",
       "      <td>NaN</td>\n",
       "      <td>NaN</td>\n",
       "    </tr>\n",
       "    <tr>\n",
       "      <th>1</th>\n",
       "      <td>NaN</td>\n",
       "      <td>0.370410</td>\n",
       "      <td>NaN</td>\n",
       "      <td>NaN</td>\n",
       "      <td>NaN</td>\n",
       "    </tr>\n",
       "    <tr>\n",
       "      <th>2</th>\n",
       "      <td>NaN</td>\n",
       "      <td>0.378860</td>\n",
       "      <td>NaN</td>\n",
       "      <td>NaN</td>\n",
       "      <td>NaN</td>\n",
       "    </tr>\n",
       "    <tr>\n",
       "      <th>3</th>\n",
       "      <td>NaN</td>\n",
       "      <td>0.387324</td>\n",
       "      <td>NaN</td>\n",
       "      <td>NaN</td>\n",
       "      <td>NaN</td>\n",
       "    </tr>\n",
       "    <tr>\n",
       "      <th>4</th>\n",
       "      <td>NaN</td>\n",
       "      <td>0.355470</td>\n",
       "      <td>NaN</td>\n",
       "      <td>NaN</td>\n",
       "      <td>NaN</td>\n",
       "    </tr>\n",
       "    <tr>\n",
       "      <th>...</th>\n",
       "      <td>...</td>\n",
       "      <td>...</td>\n",
       "      <td>...</td>\n",
       "      <td>...</td>\n",
       "      <td>...</td>\n",
       "    </tr>\n",
       "    <tr>\n",
       "      <th>7971</th>\n",
       "      <td>261.662355</td>\n",
       "      <td>0.367212</td>\n",
       "      <td>NaN</td>\n",
       "      <td>NaN</td>\n",
       "      <td>NaN</td>\n",
       "    </tr>\n",
       "    <tr>\n",
       "      <th>7972</th>\n",
       "      <td>NaN</td>\n",
       "      <td>0.374049</td>\n",
       "      <td>NaN</td>\n",
       "      <td>NaN</td>\n",
       "      <td>NaN</td>\n",
       "    </tr>\n",
       "    <tr>\n",
       "      <th>7973</th>\n",
       "      <td>NaN</td>\n",
       "      <td>0.367212</td>\n",
       "      <td>NaN</td>\n",
       "      <td>NaN</td>\n",
       "      <td>NaN</td>\n",
       "    </tr>\n",
       "    <tr>\n",
       "      <th>7974</th>\n",
       "      <td>NaN</td>\n",
       "      <td>0.367212</td>\n",
       "      <td>NaN</td>\n",
       "      <td>NaN</td>\n",
       "      <td>NaN</td>\n",
       "    </tr>\n",
       "    <tr>\n",
       "      <th>7975</th>\n",
       "      <td>NaN</td>\n",
       "      <td>0.367212</td>\n",
       "      <td>NaN</td>\n",
       "      <td>NaN</td>\n",
       "      <td>NaN</td>\n",
       "    </tr>\n",
       "  </tbody>\n",
       "</table>\n",
       "<p>7958 rows × 5 columns</p>\n",
       "</div>"
      ],
      "text/plain": [
       "              Tg       FFV        Tc  Density  Rg\n",
       "0            NaN  0.374645  0.205667      NaN NaN\n",
       "1            NaN  0.370410       NaN      NaN NaN\n",
       "2            NaN  0.378860       NaN      NaN NaN\n",
       "3            NaN  0.387324       NaN      NaN NaN\n",
       "4            NaN  0.355470       NaN      NaN NaN\n",
       "...          ...       ...       ...      ...  ..\n",
       "7971  261.662355  0.367212       NaN      NaN NaN\n",
       "7972         NaN  0.374049       NaN      NaN NaN\n",
       "7973         NaN  0.367212       NaN      NaN NaN\n",
       "7974         NaN  0.367212       NaN      NaN NaN\n",
       "7975         NaN  0.367212       NaN      NaN NaN\n",
       "\n",
       "[7958 rows x 5 columns]"
      ]
     },
     "execution_count": 11,
     "metadata": {},
     "output_type": "execute_result"
    }
   ],
   "source": [
    "df_miss_labels = df[df.isna().any(axis=1)]\n",
    "df_miss_labels"
   ]
  },
  {
   "cell_type": "code",
   "execution_count": null,
   "id": "5b22f483",
   "metadata": {},
   "outputs": [],
   "source": []
  }
 ],
 "metadata": {
  "kernelspec": {
   "display_name": "GraphicNN",
   "language": "python",
   "name": "python3"
  },
  "language_info": {
   "codemirror_mode": {
    "name": "ipython",
    "version": 3
   },
   "file_extension": ".py",
   "mimetype": "text/x-python",
   "name": "python",
   "nbconvert_exporter": "python",
   "pygments_lexer": "ipython3",
   "version": "3.12.3"
  }
 },
 "nbformat": 4,
 "nbformat_minor": 5
}
