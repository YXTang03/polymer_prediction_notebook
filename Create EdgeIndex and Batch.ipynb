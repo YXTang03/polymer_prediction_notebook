{
 "cells": [
  {
   "cell_type": "code",
   "execution_count": null,
   "id": "c25d14a8",
   "metadata": {},
   "outputs": [],
   "source": [
    "import os\n",
    "import pandas as pd\n",
    "\n",
    "from rdkit import Chem\n",
    "import torch\n",
    "\n",
    "from tqdm import trange\n",
    "work_dir = r'E:/Coding/jupyter_root/Kaggle/neurips-open-polymer-prediction-2025/polymer_prediction_notebook'\n",
    "df = pd.read_csv(os.path.join(work_dir, './merge_fill_ffv_mean.csv'))\n",
    "merge_csv = pd.read_csv(os.path.join(work_dir, 'merge.csv'))"
   ]
  },
  {
   "cell_type": "code",
   "execution_count": null,
   "id": "1c61a5ee",
   "metadata": {},
   "outputs": [],
   "source": [
    "# Continuous version\n",
    "def get_atom_edge_index(smiles:pd.Series):\n",
    "    all_edge_index = []\n",
    "    batch = []\n",
    "    atom_offset = 0\n",
    "    for id, smile in enumerate(smiles):\n",
    "        mol = Chem.MolFromSmiles(smile)\n",
    "        num_atoms = mol.GetNumAtoms()\n",
    "        edges = []\n",
    "        batch.extend([id] * num_atoms)\n",
    "        for bond in mol.GetBonds():\n",
    "            i = bond.GetBeginAtomIdx()\n",
    "            j = bond.GetEndAtomIdx()\n",
    "            edges.append((i, j))\n",
    "            edges.append((j, i))\n",
    "        \n",
    "        edges = torch.tensor(edges, dtype = torch.long).T\n",
    "        edges += atom_offset\n",
    "        all_edge_index.append(edges)\n",
    "        atom_offset += num_atoms\n",
    "    \n",
    "    all_edge_index = torch.cat(all_edge_index, dim = 1)\n",
    "    batch = torch.tensor(batch, dtype=torch.long)\n",
    "    return all_edge_index, batch\n",
    "\n",
    "smiles = merge_csv['SMILES']\n",
    "all_edge_index, batch = get_atom_edge_index(smiles)"
   ]
  }
 ],
 "metadata": {
  "kernelspec": {
   "display_name": "GraphicNN",
   "language": "python",
   "name": "python3"
  },
  "language_info": {
   "name": "python",
   "version": "3.12.3"
  }
 },
 "nbformat": 4,
 "nbformat_minor": 5
}
