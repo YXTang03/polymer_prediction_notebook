{
 "cells": [
  {
   "cell_type": "code",
   "execution_count": 6,
   "id": "cf3f0eaa",
   "metadata": {},
   "outputs": [],
   "source": [
    "import pandas as pd\n",
    "import numpy as np\n",
    "from rdkit import Chem"
   ]
  },
  {
   "cell_type": "code",
   "execution_count": 2,
   "id": "93443ddb",
   "metadata": {},
   "outputs": [],
   "source": [
    "train_df = pd.read_csv('./train.csv')\n",
    "test_df = pd.read_csv('./test.csv')"
   ]
  },
  {
   "cell_type": "code",
   "execution_count": null,
   "id": "d9317b18",
   "metadata": {},
   "outputs": [],
   "source": []
  },
  {
   "cell_type": "code",
   "execution_count": 4,
   "id": "5f386bbd",
   "metadata": {},
   "outputs": [
    {
     "data": {
      "application/vnd.microsoft.datawrangler.viewer.v0+json": {
       "columns": [
        {
         "name": "index",
         "rawType": "int64",
         "type": "integer"
        },
        {
         "name": "id",
         "rawType": "int64",
         "type": "integer"
        },
        {
         "name": "SMILES",
         "rawType": "object",
         "type": "string"
        },
        {
         "name": "Tg",
         "rawType": "float64",
         "type": "float"
        },
        {
         "name": "FFV",
         "rawType": "float64",
         "type": "float"
        },
        {
         "name": "Tc",
         "rawType": "float64",
         "type": "float"
        },
        {
         "name": "Density",
         "rawType": "float64",
         "type": "float"
        },
        {
         "name": "Rg",
         "rawType": "float64",
         "type": "float"
        }
       ],
       "ref": "f2c5cdd6-a950-45fb-8ae7-17725f3d5f07",
       "rows": [
        [
         "0",
         "87817",
         "*CC(*)c1ccccc1C(=O)OCCCCCC",
         null,
         "0.37464529",
         "0.2056666666666666",
         null,
         null
        ],
        [
         "1",
         "106919",
         "*Nc1ccc([C@H](CCC)c2ccc(C3(c4ccc([C@@H](CCC)c5ccc(N*)cc5)cc4)CCC(CCCCC)CC3)cc2)cc1",
         null,
         "0.3704102",
         null,
         null,
         null
        ],
        [
         "2",
         "388772",
         "*Oc1ccc(S(=O)(=O)c2ccc(Oc3ccc(C4(c5ccc(Oc6ccc(S(=O)(=O)c7ccc(Oc8ccc(C=C9CCCC(=Cc%10ccc(*)cc%10)C9=O)cc8)cc7)cc6)cc5)CCCCC4)cc3)cc2)cc1",
         null,
         "0.37885964",
         null,
         null,
         null
        ],
        [
         "3",
         "519416",
         "*Nc1ccc(-c2c(-c3ccc(C)cc3)c(-c3ccc(C)cc3)c(N*)c(-c3ccc(C)cc3)c2-c2ccc(C)cc2)cc1",
         null,
         "0.3873239",
         null,
         null,
         null
        ],
        [
         "4",
         "539187",
         "*Oc1ccc(OC(=O)c2cc(OCCCCCCCCCOCC3CCCN3c3ccc([N+](=O)[O-])cc3)c(C(*)=O)cc2OCCCCCCCCCOCC2CCCN2c2ccc([N+](=O)[O-])cc2)cc1",
         null,
         "0.35547017",
         null,
         null,
         null
        ]
       ],
       "shape": {
        "columns": 7,
        "rows": 5
       }
      },
      "text/html": [
       "<div>\n",
       "<style scoped>\n",
       "    .dataframe tbody tr th:only-of-type {\n",
       "        vertical-align: middle;\n",
       "    }\n",
       "\n",
       "    .dataframe tbody tr th {\n",
       "        vertical-align: top;\n",
       "    }\n",
       "\n",
       "    .dataframe thead th {\n",
       "        text-align: right;\n",
       "    }\n",
       "</style>\n",
       "<table border=\"1\" class=\"dataframe\">\n",
       "  <thead>\n",
       "    <tr style=\"text-align: right;\">\n",
       "      <th></th>\n",
       "      <th>id</th>\n",
       "      <th>SMILES</th>\n",
       "      <th>Tg</th>\n",
       "      <th>FFV</th>\n",
       "      <th>Tc</th>\n",
       "      <th>Density</th>\n",
       "      <th>Rg</th>\n",
       "    </tr>\n",
       "  </thead>\n",
       "  <tbody>\n",
       "    <tr>\n",
       "      <th>0</th>\n",
       "      <td>87817</td>\n",
       "      <td>*CC(*)c1ccccc1C(=O)OCCCCCC</td>\n",
       "      <td>NaN</td>\n",
       "      <td>0.374645</td>\n",
       "      <td>0.205667</td>\n",
       "      <td>NaN</td>\n",
       "      <td>NaN</td>\n",
       "    </tr>\n",
       "    <tr>\n",
       "      <th>1</th>\n",
       "      <td>106919</td>\n",
       "      <td>*Nc1ccc([C@H](CCC)c2ccc(C3(c4ccc([C@@H](CCC)c5...</td>\n",
       "      <td>NaN</td>\n",
       "      <td>0.370410</td>\n",
       "      <td>NaN</td>\n",
       "      <td>NaN</td>\n",
       "      <td>NaN</td>\n",
       "    </tr>\n",
       "    <tr>\n",
       "      <th>2</th>\n",
       "      <td>388772</td>\n",
       "      <td>*Oc1ccc(S(=O)(=O)c2ccc(Oc3ccc(C4(c5ccc(Oc6ccc(...</td>\n",
       "      <td>NaN</td>\n",
       "      <td>0.378860</td>\n",
       "      <td>NaN</td>\n",
       "      <td>NaN</td>\n",
       "      <td>NaN</td>\n",
       "    </tr>\n",
       "    <tr>\n",
       "      <th>3</th>\n",
       "      <td>519416</td>\n",
       "      <td>*Nc1ccc(-c2c(-c3ccc(C)cc3)c(-c3ccc(C)cc3)c(N*)...</td>\n",
       "      <td>NaN</td>\n",
       "      <td>0.387324</td>\n",
       "      <td>NaN</td>\n",
       "      <td>NaN</td>\n",
       "      <td>NaN</td>\n",
       "    </tr>\n",
       "    <tr>\n",
       "      <th>4</th>\n",
       "      <td>539187</td>\n",
       "      <td>*Oc1ccc(OC(=O)c2cc(OCCCCCCCCCOCC3CCCN3c3ccc([N...</td>\n",
       "      <td>NaN</td>\n",
       "      <td>0.355470</td>\n",
       "      <td>NaN</td>\n",
       "      <td>NaN</td>\n",
       "      <td>NaN</td>\n",
       "    </tr>\n",
       "  </tbody>\n",
       "</table>\n",
       "</div>"
      ],
      "text/plain": [
       "       id                                             SMILES  Tg       FFV  \\\n",
       "0   87817                         *CC(*)c1ccccc1C(=O)OCCCCCC NaN  0.374645   \n",
       "1  106919  *Nc1ccc([C@H](CCC)c2ccc(C3(c4ccc([C@@H](CCC)c5... NaN  0.370410   \n",
       "2  388772  *Oc1ccc(S(=O)(=O)c2ccc(Oc3ccc(C4(c5ccc(Oc6ccc(... NaN  0.378860   \n",
       "3  519416  *Nc1ccc(-c2c(-c3ccc(C)cc3)c(-c3ccc(C)cc3)c(N*)... NaN  0.387324   \n",
       "4  539187  *Oc1ccc(OC(=O)c2cc(OCCCCCCCCCOCC3CCCN3c3ccc([N... NaN  0.355470   \n",
       "\n",
       "         Tc  Density  Rg  \n",
       "0  0.205667      NaN NaN  \n",
       "1       NaN      NaN NaN  \n",
       "2       NaN      NaN NaN  \n",
       "3       NaN      NaN NaN  \n",
       "4       NaN      NaN NaN  "
      ]
     },
     "execution_count": 4,
     "metadata": {},
     "output_type": "execute_result"
    }
   ],
   "source": [
    "train_df.head()"
   ]
  },
  {
   "cell_type": "code",
   "execution_count": 13,
   "id": "45089009",
   "metadata": {},
   "outputs": [],
   "source": [
    "readmol = train_df['SMILES'].apply(lambda smile : Chem.MolFromSmiles(smile))"
   ]
  },
  {
   "cell_type": "code",
   "execution_count": 19,
   "id": "78391cf2",
   "metadata": {},
   "outputs": [
    {
     "name": "stdout",
     "output_type": "stream",
     "text": [
      "0\n",
      "6\n",
      "6\n",
      "0\n",
      "6\n",
      "6\n",
      "6\n",
      "6\n",
      "6\n",
      "6\n",
      "6\n",
      "8\n",
      "8\n",
      "6\n",
      "6\n",
      "6\n",
      "6\n",
      "6\n",
      "6\n"
     ]
    }
   ],
   "source": [
    "for atom in readmol[0].GetAtoms():\n",
    "    \n",
    "    print(atom.GetAtomicNum())"
   ]
  },
  {
   "cell_type": "code",
   "execution_count": 16,
   "id": "d13af5f9",
   "metadata": {},
   "outputs": [
    {
     "data": {
      "text/plain": [
       "array([[0, 1, 0, 0, 0, 0, 0, 0, 0, 0, 0, 0, 0, 0, 0, 0, 0, 0, 0],\n",
       "       [1, 0, 1, 0, 0, 0, 0, 0, 0, 0, 0, 0, 0, 0, 0, 0, 0, 0, 0],\n",
       "       [0, 1, 0, 1, 1, 0, 0, 0, 0, 0, 0, 0, 0, 0, 0, 0, 0, 0, 0],\n",
       "       [0, 0, 1, 0, 0, 0, 0, 0, 0, 0, 0, 0, 0, 0, 0, 0, 0, 0, 0],\n",
       "       [0, 0, 1, 0, 0, 1, 0, 0, 0, 1, 0, 0, 0, 0, 0, 0, 0, 0, 0],\n",
       "       [0, 0, 0, 0, 1, 0, 1, 0, 0, 0, 0, 0, 0, 0, 0, 0, 0, 0, 0],\n",
       "       [0, 0, 0, 0, 0, 1, 0, 1, 0, 0, 0, 0, 0, 0, 0, 0, 0, 0, 0],\n",
       "       [0, 0, 0, 0, 0, 0, 1, 0, 1, 0, 0, 0, 0, 0, 0, 0, 0, 0, 0],\n",
       "       [0, 0, 0, 0, 0, 0, 0, 1, 0, 1, 0, 0, 0, 0, 0, 0, 0, 0, 0],\n",
       "       [0, 0, 0, 0, 1, 0, 0, 0, 1, 0, 1, 0, 0, 0, 0, 0, 0, 0, 0],\n",
       "       [0, 0, 0, 0, 0, 0, 0, 0, 0, 1, 0, 1, 1, 0, 0, 0, 0, 0, 0],\n",
       "       [0, 0, 0, 0, 0, 0, 0, 0, 0, 0, 1, 0, 0, 0, 0, 0, 0, 0, 0],\n",
       "       [0, 0, 0, 0, 0, 0, 0, 0, 0, 0, 1, 0, 0, 1, 0, 0, 0, 0, 0],\n",
       "       [0, 0, 0, 0, 0, 0, 0, 0, 0, 0, 0, 0, 1, 0, 1, 0, 0, 0, 0],\n",
       "       [0, 0, 0, 0, 0, 0, 0, 0, 0, 0, 0, 0, 0, 1, 0, 1, 0, 0, 0],\n",
       "       [0, 0, 0, 0, 0, 0, 0, 0, 0, 0, 0, 0, 0, 0, 1, 0, 1, 0, 0],\n",
       "       [0, 0, 0, 0, 0, 0, 0, 0, 0, 0, 0, 0, 0, 0, 0, 1, 0, 1, 0],\n",
       "       [0, 0, 0, 0, 0, 0, 0, 0, 0, 0, 0, 0, 0, 0, 0, 0, 1, 0, 1],\n",
       "       [0, 0, 0, 0, 0, 0, 0, 0, 0, 0, 0, 0, 0, 0, 0, 0, 0, 1, 0]],\n",
       "      dtype=int32)"
      ]
     },
     "execution_count": 16,
     "metadata": {},
     "output_type": "execute_result"
    }
   ],
   "source": [
    "Chem.rdmolops.GetAdjacencyMatrix(readmol[0])"
   ]
  },
  {
   "cell_type": "code",
   "execution_count": 20,
   "id": "b782aacc",
   "metadata": {},
   "outputs": [
    {
     "data": {
      "application/vnd.microsoft.datawrangler.viewer.v0+json": {
       "columns": [
        {
         "name": "index",
         "rawType": "int64",
         "type": "integer"
        },
        {
         "name": "id",
         "rawType": "int64",
         "type": "integer"
        },
        {
         "name": "SMILES",
         "rawType": "object",
         "type": "string"
        },
        {
         "name": "Tg",
         "rawType": "float64",
         "type": "float"
        },
        {
         "name": "FFV",
         "rawType": "float64",
         "type": "float"
        },
        {
         "name": "Tc",
         "rawType": "float64",
         "type": "float"
        },
        {
         "name": "Density",
         "rawType": "float64",
         "type": "float"
        },
        {
         "name": "Rg",
         "rawType": "float64",
         "type": "float"
        }
       ],
       "ref": "3e2d2145-2f7c-4be6-8c0b-ac1f4e4c9984",
       "rows": [
        [
         "0",
         "87817",
         "*CC(*)c1ccccc1C(=O)OCCCCCC",
         null,
         "0.37464529",
         "0.2056666666666666",
         null,
         null
        ],
        [
         "1",
         "106919",
         "*Nc1ccc([C@H](CCC)c2ccc(C3(c4ccc([C@@H](CCC)c5ccc(N*)cc5)cc4)CCC(CCCCC)CC3)cc2)cc1",
         null,
         "0.3704102",
         null,
         null,
         null
        ],
        [
         "2",
         "388772",
         "*Oc1ccc(S(=O)(=O)c2ccc(Oc3ccc(C4(c5ccc(Oc6ccc(S(=O)(=O)c7ccc(Oc8ccc(C=C9CCCC(=Cc%10ccc(*)cc%10)C9=O)cc8)cc7)cc6)cc5)CCCCC4)cc3)cc2)cc1",
         null,
         "0.37885964",
         null,
         null,
         null
        ],
        [
         "3",
         "519416",
         "*Nc1ccc(-c2c(-c3ccc(C)cc3)c(-c3ccc(C)cc3)c(N*)c(-c3ccc(C)cc3)c2-c2ccc(C)cc2)cc1",
         null,
         "0.3873239",
         null,
         null,
         null
        ],
        [
         "4",
         "539187",
         "*Oc1ccc(OC(=O)c2cc(OCCCCCCCCCOCC3CCCN3c3ccc([N+](=O)[O-])cc3)c(C(*)=O)cc2OCCCCCCCCCOCC2CCCN2c2ccc([N+](=O)[O-])cc2)cc1",
         null,
         "0.35547017",
         null,
         null,
         null
        ],
        [
         "5",
         "950661",
         "*OC(=O)CCCCCCCCC(=O)OC1COC2C(*)COC12",
         null,
         "0.33909279",
         null,
         null,
         null
        ],
        [
         "6",
         "1012066",
         "*Nc1ccc([C@H]2[C@@H]3C[C@H]4C[C@@H](C3)C[C@@H]2C4)cc1N*",
         null,
         "0.3476159",
         null,
         null,
         null
        ],
        [
         "7",
         "1022104",
         "*C(=O)Nc1ccc(Oc2ccc(Oc3ccc(NC(=O)c4ccc5c(c4)C(=O)N(c4ccc(Oc6ccc(C7(c8ccc(Oc9ccc(N%10C(=O)c%11ccc(*)cc%11C%10=O)cc9)cc8)CC8CC7C7CCCC87)cc6)cc4)C5=O)cc3)c(C(C)(C)C)c2)cc1",
         null,
         "0.37754464",
         null,
         null,
         null
        ],
        [
         "8",
         "1722264",
         "*CC(*)(C)C(=O)OCCCCCCCCCOc1ccc2cc(C(=O)Oc3ccccc3)ccc2c1",
         null,
         "0.35917558",
         null,
         null,
         null
        ],
        [
         "9",
         "2265305",
         "*Nc1ccc(-c2ccc(-c3ccc(N*)cc3)cc2)cc1",
         null,
         "0.341878125",
         null,
         null,
         null
        ],
        [
         "10",
         "2986007",
         "*c1ccc(-c2ccc3c(c2)C(CCCCCCC#N)(CCCCCCC#N)c2cc(*)ccc2-3)cc1",
         null,
         "0.40239665",
         "0.487",
         "0.901122805",
         "28.6824407"
        ],
        [
         "11",
         "3013292",
         "*CC(*)c1ccc(C(=O)O)c(C(=O)O)c1",
         null,
         null,
         "0.171",
         "1.184354013",
         "13.53424751"
        ],
        [
         "12",
         "3053950",
         "*c1cccc(N2C(=O)c3ccc(Oc4ccc5ccc(Oc6ccc7c(c6)C(=O)N(*)C7=O)cc5c4)cc3C2=O)c1",
         null,
         "0.36481552",
         null,
         null,
         null
        ],
        [
         "13",
         "3128201",
         "*C(=O)c1ccc2c(c1)C(=O)N(c1ccc(C(=O)c3ccc(Cc4ccc(C(=O)c5ccc(N6C(=O)c7ccc(*)cc7C6=O)cc5)cc4)cc3)cc1)C2=O",
         null,
         "0.36956078",
         null,
         null,
         null
        ],
        [
         "14",
         "3139746",
         "*CCOCCOC(=O)c1ccc(C(=O)O*)cc1",
         null,
         "0.3314918",
         null,
         null,
         null
        ],
        [
         "15",
         "3254580",
         "*Nc1ccc(CCc2ccc(N*)c(C)c2)c(C)c1",
         null,
         "0.34991627",
         null,
         null,
         null
        ],
        [
         "16",
         "4600132",
         "*Nc1ccc(-c2ccc(N*)cc2)cc1",
         null,
         "0.33687015",
         null,
         null,
         null
        ],
        [
         "17",
         "4658296",
         "*Nc1ccc(C(c2ccc(NC(=O)c3ccc(C(*)=O)cc3)cc2)(P2(=O)Oc3ccccc3-c3ccccc32)P2(=O)Oc3ccccc3-c3ccccc32)cc1",
         null,
         "0.36326495",
         null,
         null,
         null
        ],
        [
         "18",
         "4834929",
         "*Nc1ccc2c(c1)[C@H]1CC[C@@H]2c2cc(N*)ccc21",
         null,
         "0.36594162",
         null,
         null,
         null
        ],
        [
         "19",
         "5118841",
         "*C(=O)c1ccc(N(*)CCCCCCCC)cc1",
         null,
         "0.40101187",
         null,
         null,
         null
        ],
        [
         "20",
         "5350166",
         "*CC(C)(COC(=O)NCCCCCCNC(=O)O*)C(=O)O",
         null,
         "0.31898697",
         null,
         null,
         null
        ],
        [
         "21",
         "5650517",
         "*Oc1ccc(CC(NC(=O)CCc2ccc(OC(=O)CCCC(*)=O)cc2)C(=O)OCC)cc1",
         null,
         "0.33573247",
         null,
         null,
         null
        ],
        [
         "22",
         "5661484",
         "*c1ccc(Oc2ccc(S(=O)(=O)c3ccc(Oc4ccc(-c5nc(-c6ccccn6)nnc5*)cc4)cc3)cc2)cc1",
         null,
         "0.38715626",
         null,
         null,
         null
        ],
        [
         "23",
         "5709902",
         "*Nc1ccc(NC(=O)CCCCCCC(*)=O)cc1",
         null,
         "0.33579028",
         null,
         null,
         null
        ],
        [
         "24",
         "5724071",
         "*NC(=O)Nc1ccc(Cc2ccc(NC(=O)Nc3cccc(*)n3)cc2)cc1",
         null,
         "0.33930299",
         null,
         null,
         null
        ],
        [
         "25",
         "5857263",
         "*c1ccc(Oc2ccc(Oc3ccc(Oc4ccc(N5C(=O)c6ccc(-c7ccc8c(c7)C(=O)N(*)C8=O)cc6C5=O)cc4)cc3)cc2)cc1",
         null,
         "0.36614256",
         null,
         null,
         null
        ],
        [
         "26",
         "5905810",
         "*Cc1c(C)c(C)c(CNC(=O)CCCCCC(C)CC(=O)N*)c(C)c1C",
         null,
         "0.34722767",
         null,
         null,
         null
        ],
        [
         "27",
         "5966923",
         "*c1cc(CCOC(=O)NCCCC)c(*)s1",
         null,
         "0.36941899",
         null,
         null,
         null
        ],
        [
         "28",
         "6019988",
         "*CCC(C)C(C)CCNC(=O)c1cccc(C(=O)N*)c1",
         null,
         "0.3407009",
         null,
         null,
         null
        ],
        [
         "29",
         "6102563",
         "*C(=O)OCCOCCOC(=O)c1ccc(N2C(=O)c3ccc(*)cc3C2=O)cc1",
         null,
         "0.32926001",
         null,
         null,
         null
        ],
        [
         "30",
         "6259923",
         "*NC1=C(c2ccc(O)cc2OC)[C@@H](N*)c2c(N)ccc(N)c21",
         null,
         "0.32877014",
         null,
         null,
         null
        ],
        [
         "31",
         "6645418",
         "*CCCCCNC(=O)CCCCC(=O)N*",
         null,
         "0.3327408",
         "0.327",
         null,
         null
        ],
        [
         "32",
         "6665789",
         "*Nc1cccc(C=Cc2ccc(NC(=O)c3cccc(C(*)=O)c3)cc2)c1",
         null,
         "0.35017075",
         null,
         null,
         null
        ],
        [
         "33",
         "7586800",
         "*C(=O)Nc1ccc(Oc2ccc(C(C)(C)c3ccc(Oc4ccc(NC(=O)c5ccc6c(c5)C(=O)N(c5ccc(-c7sc(-c8ccc(N9C(=O)c%10ccc(*)cc%10C9=O)cc8)c(-c8ccccc8)c7-c7ccccc7)cc5)C6=O)cc4)cc3)cc2)cc1",
         null,
         "0.38518992",
         null,
         null,
         null
        ],
        [
         "34",
         "7687820",
         "*CCCCCCCCCCCCCCCCCCNC(=O)NCCCCCCNC(=O)N*",
         null,
         null,
         "0.383",
         null,
         null
        ],
        [
         "35",
         "8689461",
         "*CC(*)CCCCCCCCCCCCCCCC",
         null,
         "0.40787312",
         "0.375",
         null,
         null
        ],
        [
         "36",
         "8973725",
         "*CC(*)CC(C)(C)CC",
         null,
         null,
         "0.1863333333333333",
         null,
         null
        ],
        [
         "37",
         "9231170",
         "*CC(*)CC",
         null,
         null,
         "0.2253333333333333",
         null,
         "13.87291346"
        ],
        [
         "38",
         "9284896",
         "*O[Si](C)(C)CCCNC(=O)C(=O)NCCC[Si](*)(C)C",
         null,
         "0.38708542",
         null,
         null,
         null
        ],
        [
         "39",
         "10061985",
         "*CCCCCCCCCCN1C(=O)c2ccc(-c3ccc(-c4ccc5c(c4)C(=O)N(*)C5=O)cc3)cc2C1=O",
         null,
         "0.3487648",
         null,
         null,
         null
        ],
        [
         "40",
         "10142210",
         "*NC(C)C(=O)NCC(=O)NCC(*)=O",
         "208.6397491",
         null,
         null,
         null,
         null
        ],
        [
         "41",
         "10557152",
         "*C(C)=C(*)[Ge](C)(C)C",
         null,
         "0.39996108",
         null,
         null,
         null
        ],
        [
         "42",
         "11301237",
         "*c1ccc(Oc2ccc(-c3nc4ccc(Oc5ccc(N6C(=O)c7ccc(C(c8ccc9c(c8)C(=O)N(c8ccc(Oc%10ccc%11nc(*)c(-c%12ccccc%12)nc%11c%10)cc8)C9=O)(C(F)(F)F)C(F)(F)F)cc7C6=O)cc5)cc4nc3-c3ccccc3)cc2)cc1",
         null,
         "0.40256926",
         null,
         null,
         null
        ],
        [
         "43",
         "11664621",
         "*OC(COC(*)=O)COC(C)C",
         null,
         "0.35338284",
         null,
         null,
         null
        ],
        [
         "44",
         "11667291",
         "*C(=O)c1ccc2c(c1)C(=O)N(c1ccc(Cc3ccc(C(=O)c4ccc(N5C(=O)c6ccc(*)cc6C5=O)cc4)cc3)cc1)C2=O",
         null,
         "0.38083463",
         null,
         null,
         null
        ],
        [
         "45",
         "11796436",
         "*Nc1cc2c(c(-c3ccccc3)c1N*)[C@@H](c1ccccc1)c1ccccc1-2",
         null,
         "0.37078536",
         null,
         null,
         null
        ],
        [
         "46",
         "11894206",
         "*CC(*)C(=O)Oc1ccccc1C",
         null,
         "0.35783052",
         "0.1735",
         "1.061864136",
         "12.7374634"
        ],
        [
         "47",
         "11955349",
         "*C(=Nc1ccccc1)c1ccc(-c2ccc(*)cc2)cc1",
         null,
         "0.39901234",
         null,
         null,
         null
        ],
        [
         "48",
         "12008966",
         "*CC(*)c1ccc(C(C)(C)C)cc1",
         null,
         null,
         "0.184",
         null,
         null
        ],
        [
         "49",
         "12265790",
         "*CC(*)C(=O)OC(C)C",
         null,
         "0.36594213",
         null,
         null,
         null
        ]
       ],
       "shape": {
        "columns": 7,
        "rows": 7973
       }
      },
      "text/html": [
       "<div>\n",
       "<style scoped>\n",
       "    .dataframe tbody tr th:only-of-type {\n",
       "        vertical-align: middle;\n",
       "    }\n",
       "\n",
       "    .dataframe tbody tr th {\n",
       "        vertical-align: top;\n",
       "    }\n",
       "\n",
       "    .dataframe thead th {\n",
       "        text-align: right;\n",
       "    }\n",
       "</style>\n",
       "<table border=\"1\" class=\"dataframe\">\n",
       "  <thead>\n",
       "    <tr style=\"text-align: right;\">\n",
       "      <th></th>\n",
       "      <th>id</th>\n",
       "      <th>SMILES</th>\n",
       "      <th>Tg</th>\n",
       "      <th>FFV</th>\n",
       "      <th>Tc</th>\n",
       "      <th>Density</th>\n",
       "      <th>Rg</th>\n",
       "    </tr>\n",
       "  </thead>\n",
       "  <tbody>\n",
       "    <tr>\n",
       "      <th>0</th>\n",
       "      <td>87817</td>\n",
       "      <td>*CC(*)c1ccccc1C(=O)OCCCCCC</td>\n",
       "      <td>NaN</td>\n",
       "      <td>0.374645</td>\n",
       "      <td>0.205667</td>\n",
       "      <td>NaN</td>\n",
       "      <td>NaN</td>\n",
       "    </tr>\n",
       "    <tr>\n",
       "      <th>1</th>\n",
       "      <td>106919</td>\n",
       "      <td>*Nc1ccc([C@H](CCC)c2ccc(C3(c4ccc([C@@H](CCC)c5...</td>\n",
       "      <td>NaN</td>\n",
       "      <td>0.370410</td>\n",
       "      <td>NaN</td>\n",
       "      <td>NaN</td>\n",
       "      <td>NaN</td>\n",
       "    </tr>\n",
       "    <tr>\n",
       "      <th>2</th>\n",
       "      <td>388772</td>\n",
       "      <td>*Oc1ccc(S(=O)(=O)c2ccc(Oc3ccc(C4(c5ccc(Oc6ccc(...</td>\n",
       "      <td>NaN</td>\n",
       "      <td>0.378860</td>\n",
       "      <td>NaN</td>\n",
       "      <td>NaN</td>\n",
       "      <td>NaN</td>\n",
       "    </tr>\n",
       "    <tr>\n",
       "      <th>3</th>\n",
       "      <td>519416</td>\n",
       "      <td>*Nc1ccc(-c2c(-c3ccc(C)cc3)c(-c3ccc(C)cc3)c(N*)...</td>\n",
       "      <td>NaN</td>\n",
       "      <td>0.387324</td>\n",
       "      <td>NaN</td>\n",
       "      <td>NaN</td>\n",
       "      <td>NaN</td>\n",
       "    </tr>\n",
       "    <tr>\n",
       "      <th>4</th>\n",
       "      <td>539187</td>\n",
       "      <td>*Oc1ccc(OC(=O)c2cc(OCCCCCCCCCOCC3CCCN3c3ccc([N...</td>\n",
       "      <td>NaN</td>\n",
       "      <td>0.355470</td>\n",
       "      <td>NaN</td>\n",
       "      <td>NaN</td>\n",
       "      <td>NaN</td>\n",
       "    </tr>\n",
       "    <tr>\n",
       "      <th>...</th>\n",
       "      <td>...</td>\n",
       "      <td>...</td>\n",
       "      <td>...</td>\n",
       "      <td>...</td>\n",
       "      <td>...</td>\n",
       "      <td>...</td>\n",
       "      <td>...</td>\n",
       "    </tr>\n",
       "    <tr>\n",
       "      <th>7968</th>\n",
       "      <td>2146592435</td>\n",
       "      <td>*Oc1cc(CCCCCCCC)cc(OC(=O)c2cccc(C(*)=O)c2)c1</td>\n",
       "      <td>NaN</td>\n",
       "      <td>0.367498</td>\n",
       "      <td>NaN</td>\n",
       "      <td>NaN</td>\n",
       "      <td>NaN</td>\n",
       "    </tr>\n",
       "    <tr>\n",
       "      <th>7969</th>\n",
       "      <td>2146810552</td>\n",
       "      <td>*C(=O)OCCN(CCOC(=O)c1ccc2c(c1)C(=O)N(c1cccc(N3...</td>\n",
       "      <td>NaN</td>\n",
       "      <td>0.353280</td>\n",
       "      <td>NaN</td>\n",
       "      <td>NaN</td>\n",
       "      <td>NaN</td>\n",
       "    </tr>\n",
       "    <tr>\n",
       "      <th>7970</th>\n",
       "      <td>2147191531</td>\n",
       "      <td>*c1cc(C(=O)NCCCCCCCC)cc(N2C(=O)c3ccc(-c4ccc5c(...</td>\n",
       "      <td>NaN</td>\n",
       "      <td>0.369411</td>\n",
       "      <td>NaN</td>\n",
       "      <td>NaN</td>\n",
       "      <td>NaN</td>\n",
       "    </tr>\n",
       "    <tr>\n",
       "      <th>7971</th>\n",
       "      <td>2147435020</td>\n",
       "      <td>*C=C(*)c1ccccc1C</td>\n",
       "      <td>261.662355</td>\n",
       "      <td>NaN</td>\n",
       "      <td>NaN</td>\n",
       "      <td>NaN</td>\n",
       "      <td>NaN</td>\n",
       "    </tr>\n",
       "    <tr>\n",
       "      <th>7972</th>\n",
       "      <td>2147438299</td>\n",
       "      <td>*c1ccc(OCCCCCCCCCCCOC(=O)CCCCC(=O)OCCCCCCCCCCC...</td>\n",
       "      <td>NaN</td>\n",
       "      <td>0.374049</td>\n",
       "      <td>NaN</td>\n",
       "      <td>NaN</td>\n",
       "      <td>NaN</td>\n",
       "    </tr>\n",
       "  </tbody>\n",
       "</table>\n",
       "<p>7973 rows × 7 columns</p>\n",
       "</div>"
      ],
      "text/plain": [
       "              id                                             SMILES  \\\n",
       "0          87817                         *CC(*)c1ccccc1C(=O)OCCCCCC   \n",
       "1         106919  *Nc1ccc([C@H](CCC)c2ccc(C3(c4ccc([C@@H](CCC)c5...   \n",
       "2         388772  *Oc1ccc(S(=O)(=O)c2ccc(Oc3ccc(C4(c5ccc(Oc6ccc(...   \n",
       "3         519416  *Nc1ccc(-c2c(-c3ccc(C)cc3)c(-c3ccc(C)cc3)c(N*)...   \n",
       "4         539187  *Oc1ccc(OC(=O)c2cc(OCCCCCCCCCOCC3CCCN3c3ccc([N...   \n",
       "...          ...                                                ...   \n",
       "7968  2146592435       *Oc1cc(CCCCCCCC)cc(OC(=O)c2cccc(C(*)=O)c2)c1   \n",
       "7969  2146810552  *C(=O)OCCN(CCOC(=O)c1ccc2c(c1)C(=O)N(c1cccc(N3...   \n",
       "7970  2147191531  *c1cc(C(=O)NCCCCCCCC)cc(N2C(=O)c3ccc(-c4ccc5c(...   \n",
       "7971  2147435020                                   *C=C(*)c1ccccc1C   \n",
       "7972  2147438299  *c1ccc(OCCCCCCCCCCCOC(=O)CCCCC(=O)OCCCCCCCCCCC...   \n",
       "\n",
       "              Tg       FFV        Tc  Density  Rg  \n",
       "0            NaN  0.374645  0.205667      NaN NaN  \n",
       "1            NaN  0.370410       NaN      NaN NaN  \n",
       "2            NaN  0.378860       NaN      NaN NaN  \n",
       "3            NaN  0.387324       NaN      NaN NaN  \n",
       "4            NaN  0.355470       NaN      NaN NaN  \n",
       "...          ...       ...       ...      ...  ..  \n",
       "7968         NaN  0.367498       NaN      NaN NaN  \n",
       "7969         NaN  0.353280       NaN      NaN NaN  \n",
       "7970         NaN  0.369411       NaN      NaN NaN  \n",
       "7971  261.662355       NaN       NaN      NaN NaN  \n",
       "7972         NaN  0.374049       NaN      NaN NaN  \n",
       "\n",
       "[7973 rows x 7 columns]"
      ]
     },
     "execution_count": 20,
     "metadata": {},
     "output_type": "execute_result"
    }
   ],
   "source": [
    "train_df"
   ]
  },
  {
   "cell_type": "code",
   "execution_count": null,
   "id": "9be5fc88",
   "metadata": {},
   "outputs": [],
   "source": [
    "smiles = '*CC(*)c1ccccc1C(=O)OCCCCCC'\n",
    "mol = Chem.MolFromSmiles(smiles)\n",
    "for atom in mol:\n",
    "    atom"
   ]
  }
 ],
 "metadata": {
  "kernelspec": {
   "display_name": "ML_and_DL",
   "language": "python",
   "name": "python3"
  },
  "language_info": {
   "codemirror_mode": {
    "name": "ipython",
    "version": 3
   },
   "file_extension": ".py",
   "mimetype": "text/x-python",
   "name": "python",
   "nbconvert_exporter": "python",
   "pygments_lexer": "ipython3",
   "version": "3.12.8"
  }
 },
 "nbformat": 4,
 "nbformat_minor": 5
}
